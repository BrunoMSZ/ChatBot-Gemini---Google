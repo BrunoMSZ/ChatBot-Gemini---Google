{
 "cells": [
  {
   "cell_type": "code",
   "execution_count": 16,
   "metadata": {},
   "outputs": [
    {
     "name": "stdout",
     "output_type": "stream",
     "text": [
      "Defaulting to user installation because normal site-packages is not writeable\n",
      "Requirement already satisfied: ipywidgets in c:\\users\\bruno\\appdata\\local\\packages\\pythonsoftwarefoundation.python.3.12_qbz5n2kfra8p0\\localcache\\local-packages\\python312\\site-packages (8.1.2)\n",
      "Requirement already satisfied: comm>=0.1.3 in c:\\users\\bruno\\appdata\\local\\packages\\pythonsoftwarefoundation.python.3.12_qbz5n2kfra8p0\\localcache\\local-packages\\python312\\site-packages (from ipywidgets) (0.2.2)\n",
      "Requirement already satisfied: ipython>=6.1.0 in c:\\users\\bruno\\appdata\\local\\packages\\pythonsoftwarefoundation.python.3.12_qbz5n2kfra8p0\\localcache\\local-packages\\python312\\site-packages (from ipywidgets) (8.24.0)\n",
      "Requirement already satisfied: traitlets>=4.3.1 in c:\\users\\bruno\\appdata\\local\\packages\\pythonsoftwarefoundation.python.3.12_qbz5n2kfra8p0\\localcache\\local-packages\\python312\\site-packages (from ipywidgets) (5.14.3)\n",
      "Requirement already satisfied: widgetsnbextension~=4.0.10 in c:\\users\\bruno\\appdata\\local\\packages\\pythonsoftwarefoundation.python.3.12_qbz5n2kfra8p0\\localcache\\local-packages\\python312\\site-packages (from ipywidgets) (4.0.10)\n",
      "Requirement already satisfied: jupyterlab-widgets~=3.0.10 in c:\\users\\bruno\\appdata\\local\\packages\\pythonsoftwarefoundation.python.3.12_qbz5n2kfra8p0\\localcache\\local-packages\\python312\\site-packages (from ipywidgets) (3.0.10)\n",
      "Requirement already satisfied: decorator in c:\\users\\bruno\\appdata\\local\\packages\\pythonsoftwarefoundation.python.3.12_qbz5n2kfra8p0\\localcache\\local-packages\\python312\\site-packages (from ipython>=6.1.0->ipywidgets) (5.1.1)\n",
      "Requirement already satisfied: jedi>=0.16 in c:\\users\\bruno\\appdata\\local\\packages\\pythonsoftwarefoundation.python.3.12_qbz5n2kfra8p0\\localcache\\local-packages\\python312\\site-packages (from ipython>=6.1.0->ipywidgets) (0.19.1)\n",
      "Requirement already satisfied: matplotlib-inline in c:\\users\\bruno\\appdata\\local\\packages\\pythonsoftwarefoundation.python.3.12_qbz5n2kfra8p0\\localcache\\local-packages\\python312\\site-packages (from ipython>=6.1.0->ipywidgets) (0.1.7)\n",
      "Requirement already satisfied: prompt-toolkit<3.1.0,>=3.0.41 in c:\\users\\bruno\\appdata\\local\\packages\\pythonsoftwarefoundation.python.3.12_qbz5n2kfra8p0\\localcache\\local-packages\\python312\\site-packages (from ipython>=6.1.0->ipywidgets) (3.0.43)\n",
      "Requirement already satisfied: pygments>=2.4.0 in c:\\users\\bruno\\appdata\\local\\packages\\pythonsoftwarefoundation.python.3.12_qbz5n2kfra8p0\\localcache\\local-packages\\python312\\site-packages (from ipython>=6.1.0->ipywidgets) (2.18.0)\n",
      "Requirement already satisfied: stack-data in c:\\users\\bruno\\appdata\\local\\packages\\pythonsoftwarefoundation.python.3.12_qbz5n2kfra8p0\\localcache\\local-packages\\python312\\site-packages (from ipython>=6.1.0->ipywidgets) (0.6.3)\n",
      "Requirement already satisfied: colorama in c:\\users\\bruno\\appdata\\local\\packages\\pythonsoftwarefoundation.python.3.12_qbz5n2kfra8p0\\localcache\\local-packages\\python312\\site-packages (from ipython>=6.1.0->ipywidgets) (0.4.6)\n",
      "Requirement already satisfied: parso<0.9.0,>=0.8.3 in c:\\users\\bruno\\appdata\\local\\packages\\pythonsoftwarefoundation.python.3.12_qbz5n2kfra8p0\\localcache\\local-packages\\python312\\site-packages (from jedi>=0.16->ipython>=6.1.0->ipywidgets) (0.8.4)\n",
      "Requirement already satisfied: wcwidth in c:\\users\\bruno\\appdata\\local\\packages\\pythonsoftwarefoundation.python.3.12_qbz5n2kfra8p0\\localcache\\local-packages\\python312\\site-packages (from prompt-toolkit<3.1.0,>=3.0.41->ipython>=6.1.0->ipywidgets) (0.2.13)\n",
      "Requirement already satisfied: executing>=1.2.0 in c:\\users\\bruno\\appdata\\local\\packages\\pythonsoftwarefoundation.python.3.12_qbz5n2kfra8p0\\localcache\\local-packages\\python312\\site-packages (from stack-data->ipython>=6.1.0->ipywidgets) (2.0.1)\n",
      "Requirement already satisfied: asttokens>=2.1.0 in c:\\users\\bruno\\appdata\\local\\packages\\pythonsoftwarefoundation.python.3.12_qbz5n2kfra8p0\\localcache\\local-packages\\python312\\site-packages (from stack-data->ipython>=6.1.0->ipywidgets) (2.4.1)\n",
      "Requirement already satisfied: pure-eval in c:\\users\\bruno\\appdata\\local\\packages\\pythonsoftwarefoundation.python.3.12_qbz5n2kfra8p0\\localcache\\local-packages\\python312\\site-packages (from stack-data->ipython>=6.1.0->ipywidgets) (0.2.2)\n",
      "Requirement already satisfied: six>=1.12.0 in c:\\users\\bruno\\appdata\\local\\packages\\pythonsoftwarefoundation.python.3.12_qbz5n2kfra8p0\\localcache\\local-packages\\python312\\site-packages (from asttokens>=2.1.0->stack-data->ipython>=6.1.0->ipywidgets) (1.16.0)\n",
      "Defaulting to user installation because normal site-packages is not writeable\n",
      "Requirement already satisfied: numpy in c:\\users\\bruno\\appdata\\local\\packages\\pythonsoftwarefoundation.python.3.12_qbz5n2kfra8p0\\localcache\\local-packages\\python312\\site-packages (1.26.4)\n",
      "Defaulting to user installation because normal site-packages is not writeable\n",
      "Requirement already satisfied: pandas in c:\\users\\bruno\\appdata\\local\\packages\\pythonsoftwarefoundation.python.3.12_qbz5n2kfra8p0\\localcache\\local-packages\\python312\\site-packages (2.2.2)\n",
      "Requirement already satisfied: numpy>=1.26.0 in c:\\users\\bruno\\appdata\\local\\packages\\pythonsoftwarefoundation.python.3.12_qbz5n2kfra8p0\\localcache\\local-packages\\python312\\site-packages (from pandas) (1.26.4)\n",
      "Requirement already satisfied: python-dateutil>=2.8.2 in c:\\users\\bruno\\appdata\\local\\packages\\pythonsoftwarefoundation.python.3.12_qbz5n2kfra8p0\\localcache\\local-packages\\python312\\site-packages (from pandas) (2.9.0.post0)\n",
      "Requirement already satisfied: pytz>=2020.1 in c:\\users\\bruno\\appdata\\local\\packages\\pythonsoftwarefoundation.python.3.12_qbz5n2kfra8p0\\localcache\\local-packages\\python312\\site-packages (from pandas) (2024.1)\n",
      "Requirement already satisfied: tzdata>=2022.7 in c:\\users\\bruno\\appdata\\local\\packages\\pythonsoftwarefoundation.python.3.12_qbz5n2kfra8p0\\localcache\\local-packages\\python312\\site-packages (from pandas) (2024.1)\n",
      "Requirement already satisfied: six>=1.5 in c:\\users\\bruno\\appdata\\local\\packages\\pythonsoftwarefoundation.python.3.12_qbz5n2kfra8p0\\localcache\\local-packages\\python312\\site-packages (from python-dateutil>=2.8.2->pandas) (1.16.0)\n"
     ]
    }
   ],
   "source": [
    "!pip install -q -U google-generativeai\n",
    "!pip install ipywidgets\n",
    "!pip install numpy\n",
    "!pip install pandas"
   ]
  },
  {
   "cell_type": "code",
   "execution_count": 18,
   "metadata": {},
   "outputs": [],
   "source": [
    "import google.generativeai as genai\n",
    "import numpy as np\n",
    "import pandas as pd\n",
    "GOOGLE_API_KEY =\"COLE SUA API KEY AQUI\"\n",
    "genai.configure(api_key=GOOGLE_API_KEY)"
   ]
  },
  {
   "cell_type": "markdown",
   "metadata": {},
   "source": [
    "Listar modelos"
   ]
  },
  {
   "cell_type": "code",
   "execution_count": 19,
   "metadata": {},
   "outputs": [
    {
     "name": "stdout",
     "output_type": "stream",
     "text": [
      "models/embedding-001\n",
      "models/text-embedding-004\n"
     ]
    }
   ],
   "source": [
    "for m in genai.list_models():\n",
    "    if 'embedContent' in m.supported_generation_methods:\n",
    "        print(m.name)"
   ]
  },
  {
   "cell_type": "markdown",
   "metadata": {},
   "source": [
    "Embedding: forma de representar palavras(token) em forma vetorial, verifica a palavra por meio do contexto passado (contexto semântico)\n",
    "\n",
    "Obs: Podem ser usados documentos, fotos, planilhas e dentre outros."
   ]
  },
  {
   "cell_type": "code",
   "execution_count": 20,
   "metadata": {},
   "outputs": [
    {
     "name": "stdout",
     "output_type": "stream",
     "text": [
      "{'embedding': [0.05299908, -0.03557685, -0.021441858, 0.015086849, 0.06556389, 0.0051465286, -0.023320386, -0.016274557, 0.05680594, 0.061549723, 0.009252364, 0.009934231, -0.04727567, -0.021084065, 0.01178617, -0.024537204, 0.01793867, -0.015928214, -0.037124977, -0.0034861693, 0.0050178855, 0.009632896, -0.032720674, -0.067634225, -0.019214673, 0.021491304, 0.012814591, -0.036724273, -0.034163255, 0.023754718, -0.04874855, 0.045606572, -0.03600286, 0.006140492, -0.036286406, -0.04040737, -0.028890518, -0.04911146, -0.003747698, -0.002111273, 0.0031373238, -0.08609798, -0.007603586, 0.027026648, -0.008727415, -0.021800807, 0.047823187, 0.043324456, 0.012378777, -0.056832593, 0.030368453, 0.020549295, 0.06808035, -0.04291779, -0.006365839, -0.008294464, 0.024091918, -0.035606902, 0.022364182, 0.00052945246, -0.0016637429, 0.020267403, -0.022209061, 0.05253558, 0.02228756, -0.054855347, -0.040515613, 0.00051979965, 0.013952545, 0.05217235, 0.0044490504, 0.010418808, 0.06116577, -0.06139896, -0.03927065, -0.11641762, -0.041057166, 0.04121446, -0.0074765296, 0.020847926, 0.02231153, -0.075966865, -0.056589894, -0.042270545, -0.02005851, 0.037060224, -0.05516074, -0.021968938, 0.045753133, -1.4265596e-05, 0.013823874, -0.04035288, 0.048018385, -0.04498657, -0.003001213, 0.09027415, -0.057807907, -0.017591108, -0.0044540535, -0.085574135, -0.0134370765, 0.0012605196, -0.051439486, 0.006314865, 0.02049341, 0.037577048, -0.021935033, 0.018029386, -0.047684968, 0.10703892, -0.03478055, -0.0068625053, 0.02182204, -0.065171264, 0.04340773, -0.02223509, 0.018538706, 0.046229433, 0.0009446245, 0.050421417, 0.053452186, 0.023518734, 0.034764715, 0.0034626648, -0.043445073, 0.02156002, -0.041183922, 0.017378315, 0.06286415, 0.04008111, 0.013417931, -0.04991612, -0.029843735, 0.04554585, 0.04223743, 0.048552357, 0.013895643, -0.013619347, 0.050141744, 0.059485603, -0.00082300056, 0.045626257, -0.00042572673, -0.014326483, 0.00023235369, 0.08589915, -0.07806779, -0.009631105, 0.032756906, -0.006031185, -0.035175446, 0.0037537236, -0.08924736, 0.056588337, 0.039072372, 0.02267161, -0.0311107, 0.062303416, 0.027127462, 0.011017325, 0.038073126, -0.009843623, 0.006527637, 0.008376157, -0.020747373, -0.024789711, -0.013362678, 0.006033609, 0.019047288, 0.03556138, 0.008803474, 0.015402432, -0.040386494, -0.055991042, -0.011588199, -0.036952548, 0.0021095495, -0.005400219, -0.04252198, 0.02185263, -0.03753855, -0.053629354, 0.03638822, 0.028029403, 0.004852225, -0.024747338, 0.043366026, -0.02394193, -0.08080427, 0.042549253, -0.0051873457, -0.025934838, -0.015545755, 0.0043180324, -0.024707226, 0.038318843, 0.023509024, 0.025417054, 0.012770199, -0.021437023, 0.000185284, 0.07177559, 0.038628448, 0.0072204038, -0.0012639135, 0.04631463, 0.08197301, -0.016343085, -0.034594145, 0.033849284, -0.042176638, 0.008469172, 0.024950376, 0.042198475, 0.022901192, -0.018211665, -0.0025979038, -0.004154531, -0.034365255, -0.044101845, -0.019687036, -0.00096111913, -0.034051314, -0.014986014, -0.02981241, 0.07004721, -0.058355972, 0.05950963, 0.045231856, -0.072981715, 0.011789725, 0.065887965, 0.06443538, 0.0015063597, 0.05047531, 0.015157864, 0.006322438, 0.015391667, 0.034341153, 0.05072749, -0.029492984, 0.060663216, 0.0449431, 0.039687883, -0.05342765, 0.005539864, 0.005754722, 0.057499792, -0.0028008788, 0.040873285, -0.00754974, -0.049661383, -0.05192557, 0.064202204, -0.019998237, -0.005433349, -0.072956875, -0.06571325, 0.06450222, -0.0020056344, 0.07752315, -0.041221492, 0.010745412, -0.00050176255, 0.0050049424, -0.053379167, 0.016647315, 0.03515992, -0.030863551, 0.042580914, -0.021831527, -0.06383827, 0.05067233, 0.061601542, -0.0013756012, 0.030762728, 0.0020439273, 0.039278984, 0.05629374, -0.07921468, 0.010432274, 0.04237902, 0.0059857103, -0.07169542, -0.053578347, 0.0005162177, -0.013628355, -0.05238092, -0.010002391, -0.059076216, -0.071138665, 0.036377285, -0.0052430094, 0.019556861, -0.058047466, 0.00081102, -0.03721784, 0.04176449, 0.045251273, -0.021052307, -0.015491186, -0.068018354, -0.027853344, -0.0748679, -0.01836032, -0.0350103, -0.007712734, -0.05821242, 0.05137431, 0.040670283, 0.006612814, -0.037052915, -0.007166987, 0.017953524, 0.08528066, 0.051153228, -0.031490985, 0.005763109, -0.0051639723, 0.057437226, 0.0020282462, 0.009508496, -0.0050617517, 0.002566682, -0.021553373, 0.04328944, -0.029218607, -0.004984236, -0.013023878, 0.025061486, -0.015526862, -0.0029367472, -0.02344997, 0.04295209, 0.06478206, -0.0009948368, -0.0552935, 0.006401524, -0.013824789, -0.038335055, -0.00788789, -0.013064538, -9.051769e-06, -0.042341165, 0.030827856, 0.008003756, -0.096810386, -0.012517474, 0.06442901, 0.0138814505, 0.0064505315, 0.055363845, -0.019313738, -0.030201124, -0.009473644, -0.023080409, 0.032207042, 0.025737168, 0.070335805, -0.02953068, -0.013403208, 0.044053294, -0.011291239, 0.014000895, 0.013164436, 0.05191509, 0.01072455, -0.0022645514, -0.0065160724, 0.015898451, 0.014463748, -0.032988172, 0.0060568415, -0.01306912, 0.017375378, -0.005615891, -0.034574978, -0.062764935, -0.004895473, 0.029698849, -0.024998134, -0.05468674, 0.03846613, 0.048664898, -0.016719341, 0.0024877272, 0.034252476, 0.061445113, 0.008610458, 0.052737266, 0.01817441, -0.0013678038, 0.095374845, 0.02875044, 0.02579704, 0.020969337, -0.01145655, -0.033115182, 0.033037923, -0.021891283, -0.01110318, -0.041390814, -0.023323562, -0.017903823, -0.029779896, 0.0027824275, -0.03904452, -0.026358264, -0.056916725, -0.044434838, 0.019946564, 0.001730591, 0.05166531, -0.062757485, -0.05272296, -0.018574936, 0.01187246, -0.014525157, -0.011478064, -0.019831229, -0.011899395, 0.014277354, 0.032460436, -0.035338793, -0.048924174, -0.004796689, 0.015739126, -0.04721653, 0.006529626, 0.020333532, 0.013432848, 0.016716333, 0.011449565, 0.010139011, -0.024877617, -0.038926076, 0.0040837894, 0.0050062323, -0.013921733, 0.026151756, 0.032882318, -0.019576432, -0.00459519, -0.004014569, -0.059689485, -0.058146402, -0.0038081899, 0.0022475396, 0.050936013, -0.056803025, 0.011712904, -0.053780533, -0.035888206, -0.040254693, -0.024938408, 0.010092984, 0.024391886, 0.019793341, -0.008815012, 0.012627118, 0.014664948, -0.025673665, -0.011776734, -0.016289484, 0.051120248, -0.008427138, 0.0038947652, 0.00043302923, 0.012752858, 0.029430281, 0.021777444, -0.08399693, 0.039039567, -0.01740473, 0.013960616, 0.01687019, -0.048672225, 0.03696687, -0.02847295, 0.011635358, -0.025123814, 0.018289985, 0.024755215, -0.016339084, -0.014720949, -0.04167241, 0.016994754, -0.0072692367, 0.008536002, 0.010014434, 0.028766254, 0.030951217, -0.04487745, -0.05242805, -0.01306587, -0.015002391, -0.04029804, 0.009943863, 0.04763595, 0.017536946, -0.010811628, -0.027664911, -0.01632728, 0.024299333, 0.05084726, -0.03266885, 0.020092418, -0.01837973, -0.0025970542, -0.03970117, -0.014796549, -0.0072537214, 0.013321082, -0.03633125, 0.07866273, -0.035049442, -0.012327582, 0.03631277, 0.026600586, -0.0061847772, 0.07562394, 0.033816032, -0.06512701, 0.0014012132, 0.020549754, -0.046362866, 0.016103853, -0.009533909, 0.008395287, 0.026513115, -0.0197591, 0.06637472, -0.0074659553, -0.040782444, 0.021644797, 0.009760386, 0.047037598, -0.013121656, -0.030835748, 0.013244, 0.0038977945, -0.06428324, 0.03327801, 0.01996773, -0.03703958, -0.006629381, -0.004742185, -0.0606949, 0.01884895, -0.01587332, -0.014800191, 0.012897983, -0.006172123, 0.025807021, 0.03754059, -0.04077378, -0.0012757516, -0.008614211, 0.04203268, 0.017167399, 0.02191801, -0.0044296114, -0.016552007, 0.0024655866, 0.058046065, 0.00049624784, -0.018348968, -0.016085971, 0.03416507, -0.027681189, 0.0048966566, 0.01423173, 0.021176258, 0.00435569, 0.047842897, -0.0057494235, -0.038159326, -0.01813788, -0.048519664, 0.038408767, 0.04002484, -0.0029543866, -0.028858935, 0.037395168, -0.037994973, -0.0068043238, 0.014125641, 0.03692678, 0.044343937, 0.027282806, -0.048731226, 0.056965966, 0.005127999, 0.019960739, 0.030854128, -0.0044004503, 0.024647936, -0.014555502, 0.02668803, 0.055759028, -0.029350193, -0.03964244, 0.051127315, -0.00819085, -0.016771398, 0.014503743, -0.0053101983, 0.01680482, 0.01583371, -0.006021357, 0.005670195, -0.087573, 0.01321955, -0.035044923, -0.05859166, -0.02086131, 0.030611174, 0.024630046, -0.031852096, -0.012466355, 0.04489011, 0.030192815, 0.023758728, 0.034633428, 0.021872861, 0.023680387, -0.0618342, 0.016369266, 0.052411724, 0.05721685, 0.06470985, 0.055072922, 0.016629728, -0.038231466, -0.05534058, -0.0076227724, 0.017625196, 0.059201755, -0.0141000645, -0.042924266, -0.043105632, -0.009651864, -0.011291295, -0.031152416, -0.033985358, 0.009871363, -0.005337631, -0.07110301, -0.06139465, 0.0038122847, 0.0009652194, 0.011170748, 0.0031590548, 0.005298404, 0.039471928, 0.008110673, -0.063507214, -0.0618613, 0.018280176, -0.025878936, -0.06710837, 0.01567511, 0.008505143, -0.006559166, -0.061728645, -0.03365797, -0.057968535, -0.083871216, -0.047340076, 0.04069502, -0.041512914, 0.048650555, 0.027058313, -0.015540129, 0.025108917, 0.062435064, 0.007016241, 0.0020182095, -0.0044211284, -0.022200884, 0.0020277954, -0.037373196, 0.0030227785, 0.004505861, -0.023529716, 0.0130695775, 0.04746609, 0.0024686735, -0.009301944, -0.022208216, -0.014273348, -0.036921505, -0.0034609137, -0.01810867, -0.01668368, -0.04202192, -0.039527204, -0.060361065, 0.06040663, 0.04163914, -0.016654637, -0.011542016, -0.020264374, -0.01743465, 0.00447566, -0.013556821, -0.034576222, 0.0019619472, -0.021374721, 0.052926756, 0.057297334, -0.03829193, -0.089355074, 0.016071297, -0.03326943, 0.01625985, -0.039671272, 0.004128323, -0.019620035, 0.0358949, 0.007713771, -0.0057139527, 0.0058257817, -0.04093796, -0.08410803, 0.023363728, -0.029582042, 0.018546777, -0.029087737, 0.002356915, 0.06748511, -0.0056767, -0.049890246, -0.00016954627, -0.015026312, 0.01603818, -0.03419096, 0.061537538, -0.045741223, -0.07684349, -0.026227163, -0.02084105, -0.014901193, 0.058602825, 0.03508464, -0.027977008, 0.0036552486, -0.009201091, -0.010523868, -0.07143095, -0.033066664, -0.028315093, -0.008434072, 0.039767876, -0.009312209, -0.0044758306, -2.8787217e-05, -0.029221086, 0.011448685, 0.012801535, -0.044065453, -0.04228585, 0.010654118, -0.029536108, 0.00829178, 0.09351214, -0.051149692, 0.006695217]}\n"
     ]
    }
   ],
   "source": [
    "title = \"A próxima geração de IA para desenvolvedores e Google Workspace\"\n",
    "sample_text = (\"Titulo: A próxima geração de IA para desenvolvedores e Google Workspace\"\n",
    "               \"\\n\"\n",
    "               \"Artigo completo:\\n\"\n",
    "               \"\\n\"\n",
    "               \"Gemini API & Goggle AI Studio: Uma maneira acessível de explorar e criar protótipos com aplicações de IA generativa\")\n",
    "\n",
    "embeddings = genai.embed_content(model=\"models/embedding-001\", content=sample_text, title=title,task_type=\"RETRIEVAL_DOCUMENT\") #gerar embeddings do texto\n",
    "#task type = tipos que voce irá trabalhar (documentos, querys)\n",
    "print(embeddings) #retorna a lista de \"numeros que formam a apartir do sample_text\"\n"
   ]
  },
  {
   "cell_type": "code",
   "execution_count": 21,
   "metadata": {},
   "outputs": [],
   "source": [
    "DOCUMENT1 = {\n",
    "    \"title\": \"Operating the Climate Control System\",\n",
    "    \"content\": \"Your Googlecar has a climate control system that allows you to adjust the temperature and airflow in the car. To operate the climate control system, use the buttons and knobs located on the center console.  Temperature: The temperature knob controls the temperature inside the car. Turn the knob clockwise to increase the temperature or counterclockwise to decrease the temperature. Airflow: The airflow knob controls the amount of airflow inside the car. Turn the knob clockwise to increase the airflow or counterclockwise to decrease the airflow. Fan speed: The fan speed knob controls the speed of the fan. Turn the knob clockwise to increase the fan speed or counterclockwise to decrease the fan speed. Mode: The mode button allows you to select the desired mode. The available modes are: Auto: The car will automatically adjust the temperature and airflow to maintain a comfortable level. Cool: The car will blow cool air into the car. Heat: The car will blow warm air into the car. Defrost: The car will blow warm air onto the windshield to defrost it.\"}\n",
    "DOCUMENT2 = {\n",
    "    \"title\": \"Touchscreen\",\n",
    "    \"content\": \"Your Googlecar has a large touchscreen display that provides access to a variety of features, including navigation, entertainment, and climate control. To use the touchscreen display, simply touch the desired icon.  For example, you can touch the \\\"Navigation\\\" icon to get directions to your destination or touch the \\\"Music\\\" icon to play your favorite songs.\"}\n",
    "DOCUMENT3 = {\n",
    "    \"title\": \"Shifting Gears\",\n",
    "    \"content\": \"Your Googlecar has an automatic transmission. To shift gears, simply move the shift lever to the desired position.  Park: This position is used when you are parked. The wheels are locked and the car cannot move. Reverse: This position is used to back up. Neutral: This position is used when you are stopped at a light or in traffic. The car is not in gear and will not move unless you press the gas pedal. Drive: This position is used to drive forward. Low: This position is used for driving in snow or other slippery conditions.\"}\n",
    "\n",
    "documents = [DOCUMENT1, DOCUMENT2, DOCUMENT3]"
   ]
  },
  {
   "cell_type": "code",
   "execution_count": 22,
   "metadata": {},
   "outputs": [
    {
     "data": {
      "text/html": [
       "<div>\n",
       "<style scoped>\n",
       "    .dataframe tbody tr th:only-of-type {\n",
       "        vertical-align: middle;\n",
       "    }\n",
       "\n",
       "    .dataframe tbody tr th {\n",
       "        vertical-align: top;\n",
       "    }\n",
       "\n",
       "    .dataframe thead th {\n",
       "        text-align: right;\n",
       "    }\n",
       "</style>\n",
       "<table border=\"1\" class=\"dataframe\">\n",
       "  <thead>\n",
       "    <tr style=\"text-align: right;\">\n",
       "      <th></th>\n",
       "      <th>Titulo</th>\n",
       "      <th>Conteudo</th>\n",
       "    </tr>\n",
       "  </thead>\n",
       "  <tbody>\n",
       "    <tr>\n",
       "      <th>0</th>\n",
       "      <td>Operating the Climate Control System</td>\n",
       "      <td>Your Googlecar has a climate control system th...</td>\n",
       "    </tr>\n",
       "    <tr>\n",
       "      <th>1</th>\n",
       "      <td>Touchscreen</td>\n",
       "      <td>Your Googlecar has a large touchscreen display...</td>\n",
       "    </tr>\n",
       "    <tr>\n",
       "      <th>2</th>\n",
       "      <td>Shifting Gears</td>\n",
       "      <td>Your Googlecar has an automatic transmission. ...</td>\n",
       "    </tr>\n",
       "  </tbody>\n",
       "</table>\n",
       "</div>"
      ],
      "text/plain": [
       "                                 Titulo  \\\n",
       "0  Operating the Climate Control System   \n",
       "1                           Touchscreen   \n",
       "2                        Shifting Gears   \n",
       "\n",
       "                                            Conteudo  \n",
       "0  Your Googlecar has a climate control system th...  \n",
       "1  Your Googlecar has a large touchscreen display...  \n",
       "2  Your Googlecar has an automatic transmission. ...  "
      ]
     },
     "execution_count": 22,
     "metadata": {},
     "output_type": "execute_result"
    }
   ],
   "source": [
    "df = pd.DataFrame(documents) #realiza uma conversão para acessarmos\n",
    "df.columns = [\"Titulo\", \"Conteudo\"]\n",
    "df"
   ]
  },
  {
   "cell_type": "code",
   "execution_count": 23,
   "metadata": {},
   "outputs": [],
   "source": [
    "model = \"models/embedding-001\""
   ]
  },
  {
   "cell_type": "markdown",
   "metadata": {},
   "source": [
    "Criando a função de embedding"
   ]
  },
  {
   "cell_type": "code",
   "execution_count": 24,
   "metadata": {},
   "outputs": [],
   "source": [
    "def embed_fn(title, text):\n",
    "    return genai.embed_content(model=model, content=text, title=title,task_type=\"RETRIEVAL_DOCUMENT\")[\"embedding\"] #gerar embeddings do texto e cria uma nova coluna no nosso DataFrame\n"
   ]
  },
  {
   "cell_type": "code",
   "execution_count": 25,
   "metadata": {},
   "outputs": [
    {
     "data": {
      "text/html": [
       "<div>\n",
       "<style scoped>\n",
       "    .dataframe tbody tr th:only-of-type {\n",
       "        vertical-align: middle;\n",
       "    }\n",
       "\n",
       "    .dataframe tbody tr th {\n",
       "        vertical-align: top;\n",
       "    }\n",
       "\n",
       "    .dataframe thead th {\n",
       "        text-align: right;\n",
       "    }\n",
       "</style>\n",
       "<table border=\"1\" class=\"dataframe\">\n",
       "  <thead>\n",
       "    <tr style=\"text-align: right;\">\n",
       "      <th></th>\n",
       "      <th>Titulo</th>\n",
       "      <th>Conteudo</th>\n",
       "      <th>Embeddings</th>\n",
       "    </tr>\n",
       "  </thead>\n",
       "  <tbody>\n",
       "    <tr>\n",
       "      <th>0</th>\n",
       "      <td>Operating the Climate Control System</td>\n",
       "      <td>Your Googlecar has a climate control system th...</td>\n",
       "      <td>[-0.033361107, -0.021217084, -0.049581926, -0....</td>\n",
       "    </tr>\n",
       "    <tr>\n",
       "      <th>1</th>\n",
       "      <td>Touchscreen</td>\n",
       "      <td>Your Googlecar has a large touchscreen display...</td>\n",
       "      <td>[0.009660736, -0.030662702, -0.017281422, -0.0...</td>\n",
       "    </tr>\n",
       "    <tr>\n",
       "      <th>2</th>\n",
       "      <td>Shifting Gears</td>\n",
       "      <td>Your Googlecar has an automatic transmission. ...</td>\n",
       "      <td>[-0.04270796, -0.007160868, -0.03242516, -0.02...</td>\n",
       "    </tr>\n",
       "  </tbody>\n",
       "</table>\n",
       "</div>"
      ],
      "text/plain": [
       "                                 Titulo  \\\n",
       "0  Operating the Climate Control System   \n",
       "1                           Touchscreen   \n",
       "2                        Shifting Gears   \n",
       "\n",
       "                                            Conteudo  \\\n",
       "0  Your Googlecar has a climate control system th...   \n",
       "1  Your Googlecar has a large touchscreen display...   \n",
       "2  Your Googlecar has an automatic transmission. ...   \n",
       "\n",
       "                                          Embeddings  \n",
       "0  [-0.033361107, -0.021217084, -0.049581926, -0....  \n",
       "1  [0.009660736, -0.030662702, -0.017281422, -0.0...  \n",
       "2  [-0.04270796, -0.007160868, -0.03242516, -0.02...  "
      ]
     },
     "execution_count": 25,
     "metadata": {},
     "output_type": "execute_result"
    }
   ],
   "source": [
    "df[\"Embeddings\"] = df.apply(lambda row: embed_fn(row[\"Titulo\"], row[\"Conteudo\"]), axis=1) #aplica a criação de uma nova coluna\n",
    "df"
   ]
  },
  {
   "cell_type": "code",
   "execution_count": 28,
   "metadata": {},
   "outputs": [],
   "source": [
    "def gerar_e_buscar_consulta(consulta, base, model):#buscar o documento\n",
    "  embedding_da_consulta = genai.embed_content(model=model,\n",
    "                                 content=consulta,\n",
    "                                 task_type=\"RETRIEVAL_QUERY\")[\"embedding\"]\n",
    "\n",
    "  produtos_escalares = np.dot(np.stack(df[\"Embeddings\"]), embedding_da_consulta)#multiplica o embedding da coluna com a consulta (aquele mais proximo de distância gera um contexto mais próximo)\n",
    "    #argumento máximo (pega a maior singularidade de contexto)\n",
    "\n",
    "  indice = np.argmax(produtos_escalares)\n",
    "  return df.iloc[indice][\"Conteudo\"]#retorna o texto da coluna conteudo que possui este argumento máximo, ou seja, maior contexto buscado pela conta acima"
   ]
  },
  {
   "cell_type": "code",
   "execution_count": 30,
   "metadata": {},
   "outputs": [
    {
     "name": "stdout",
     "output_type": "stream",
     "text": [
      "Your Googlecar has a large touchscreen display that provides access to a variety of features, including navigation, entertainment, and climate control. To use the touchscreen display, simply touch the desired icon.  For example, you can touch the \"Navigation\" icon to get directions to your destination or touch the \"Music\" icon to play your favorite songs.\n"
     ]
    }
   ],
   "source": [
    "consulta = \"Como faço para trocar marchas em um carro do Google?\"\n",
    "\n",
    "trecho = gerar_e_buscar_consulta(consulta, df, model)\n",
    "print(trecho)"
   ]
  },
  {
   "cell_type": "code",
   "execution_count": 34,
   "metadata": {},
   "outputs": [],
   "source": [
    "generation_config = {\n",
    "  \"temperature\": 0.5,\n",
    "  \"candidate_count\": 1\n",
    "}"
   ]
  },
  {
   "cell_type": "code",
   "execution_count": 35,
   "metadata": {},
   "outputs": [
    {
     "name": "stdout",
     "output_type": "stream",
     "text": [
      "Seu Googlecar tem uma telona sensível ao toque irada que te dá acesso a um monte de coisas bacanas, tipo GPS, música e até pra controlar o ar-condicionado. Pra usar a tela, é só tocar no ícone que você quer. Por exemplo, toca no \"GPS\" pra saber como chegar no lugar ou no \"Música\" pra tocar aquela sonzera que você curte.\n"
     ]
    }
   ],
   "source": [
    "prompt = f\"Reescreva esse texto de uma forma mais descontraída, sem adicionar informações que não façam parte do texto: {trecho}\"\n",
    "\n",
    "model_2 = genai.GenerativeModel(\"gemini-1.0-pro\", generation_config=generation_config)\n",
    "response = model_2.generate_content(prompt)\n",
    "print(response.text)"
   ]
  }
 ],
 "metadata": {
  "kernelspec": {
   "display_name": "Python 3",
   "language": "python",
   "name": "python3"
  },
  "language_info": {
   "codemirror_mode": {
    "name": "ipython",
    "version": 3
   },
   "file_extension": ".py",
   "mimetype": "text/x-python",
   "name": "python",
   "nbconvert_exporter": "python",
   "pygments_lexer": "ipython3",
   "version": "3.12.3"
  }
 },
 "nbformat": 4,
 "nbformat_minor": 2
}
